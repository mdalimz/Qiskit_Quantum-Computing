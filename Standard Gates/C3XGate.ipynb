{
 "cells": [
  {
   "cell_type": "code",
   "execution_count": 9,
   "id": "85f8fd6a-03f3-4c38-8d40-6d80ac879488",
   "metadata": {},
   "outputs": [
    {
     "ename": "AttributeError",
     "evalue": "'QuantumCircuit' object has no attribute 'c3X'",
     "output_type": "error",
     "traceback": [
      "\u001b[1;31m---------------------------------------------------------------------------\u001b[0m",
      "\u001b[1;31mAttributeError\u001b[0m                            Traceback (most recent call last)",
      "Cell \u001b[1;32mIn[9], line 7\u001b[0m\n\u001b[0;32m      4\u001b[0m qc \u001b[38;5;241m=\u001b[39m QuantumCircuit(\u001b[38;5;241m4\u001b[39m)\n\u001b[0;32m      6\u001b[0m \u001b[38;5;66;03m# Apply the C3XGate (Toffoli gate)\u001b[39;00m\n\u001b[1;32m----> 7\u001b[0m \u001b[43mqc\u001b[49m\u001b[38;5;241;43m.\u001b[39;49m\u001b[43mc3X\u001b[49m(\u001b[38;5;241m0\u001b[39m, \u001b[38;5;241m1\u001b[39m, \u001b[38;5;241m2\u001b[39m, \u001b[38;5;241m3\u001b[39m)  \u001b[38;5;66;03m# Control qubits: 0, 1, 2; Target qubit: 3\u001b[39;00m\n\u001b[0;32m      9\u001b[0m \u001b[38;5;66;03m# Draw the circuit\u001b[39;00m\n\u001b[0;32m     10\u001b[0m \u001b[38;5;28mprint\u001b[39m(qc\u001b[38;5;241m.\u001b[39mdraw())\n",
      "\u001b[1;31mAttributeError\u001b[0m: 'QuantumCircuit' object has no attribute 'c3X'"
     ]
    }
   ],
   "source": [
    "from qiskit import QuantumCircuit\n",
    "from qiskit.circuit.library import C3XGate\n",
    "# Create a quantum circuit with 4 qubits\n",
    "qc = QuantumCircuit(4)\n",
    "\n",
    "# Apply the C3XGate (Toffoli gate)\n",
    "qc.c3X(0, 1, 2, 3)  # Control qubits: 0, 1, 2; Target qubit: 3\n",
    "\n",
    "# Draw the circuit\n",
    "print(qc.draw())\n",
    "\n",
    "#Example of using it to simulate a classical AND operation.\n",
    "\n",
    "qc2 = QuantumCircuit(3,1)\n",
    "qc2.x(0) #set control bit 1 to 1.\n",
    "qc2.x(1) #set control bit 2 to 1.\n",
    "qc2.c3X(0,1,2,2) # apply the toffoli gate.\n",
    "qc2.measure(2,0) # measure the result.\n",
    "print(qc2.draw())\n",
    "\n",
    "#Run the circuit.\n",
    "#from qiskit import Aer, execute\n",
    "#simulator = Aer.get_backend('qasm_simulator')\n",
    "#job = execute(qc2, simulator, shots=1024)\n",
    "#result = job.result()\n",
    "#counts = result.get_counts(qc2)\n",
    "#print(counts)"
   ]
  },
  {
   "cell_type": "code",
   "execution_count": 2,
   "id": "0049ea37-a8f9-4cf3-9db7-e4730f2a5d88",
   "metadata": {},
   "outputs": [
    {
     "name": "stdout",
     "output_type": "stream",
     "text": [
      "     ┌────────┐                                                              »\n",
      "q_0: ┤ P(π/8) ├────■──────────────────■────────────────────■─────────────────»\n",
      "     ├────────┤  ┌─┴─┐   ┌─────────┐┌─┴─┐                  │                 »\n",
      "q_1: ┤ P(π/8) ├──┤ X ├───┤ P(-π/8) ├┤ X ├──■───────────────┼──────────────■──»\n",
      "     ├────────┤  └───┘   └─────────┘└───┘┌─┴─┐┌─────────┐┌─┴─┐┌────────┐┌─┴─┐»\n",
      "q_2: ┤ P(π/8) ├──────────────────────────┤ X ├┤ P(-π/8) ├┤ X ├┤ P(π/8) ├┤ X ├»\n",
      "     └─┬───┬──┘┌────────┐                └───┘└─────────┘└───┘└────────┘└───┘»\n",
      "q_3: ──┤ H ├───┤ P(π/8) ├────────────────────────────────────────────────────»\n",
      "       └───┘   └────────┘                                                    »\n",
      "«                                                                         »\n",
      "«q_0: ─────────────■───────────────────────────────────────────────────■──»\n",
      "«                  │                                                   │  »\n",
      "«q_1: ─────────────┼────────────────────■──────────────────────────────┼──»\n",
      "«     ┌─────────┐┌─┴─┐                  │                              │  »\n",
      "«q_2: ┤ P(-π/8) ├┤ X ├──■───────────────┼──────────────■───────────────┼──»\n",
      "«     └─────────┘└───┘┌─┴─┐┌─────────┐┌─┴─┐┌────────┐┌─┴─┐┌─────────┐┌─┴─┐»\n",
      "«q_3: ────────────────┤ X ├┤ P(-π/8) ├┤ X ├┤ P(π/8) ├┤ X ├┤ P(-π/8) ├┤ X ├»\n",
      "«                     └───┘└─────────┘└───┘└────────┘└───┘└─────────┘└───┘»\n",
      "«                                                                        \n",
      "«q_0: ───────────────────────────────────────────────────────────■───────\n",
      "«                                                                │       \n",
      "«q_1: ────────────────────────────■──────────────────────────────┼───────\n",
      "«                                 │                              │       \n",
      "«q_2: ────────────■───────────────┼──────────────■───────────────┼───────\n",
      "«     ┌────────┐┌─┴─┐┌─────────┐┌─┴─┐┌────────┐┌─┴─┐┌─────────┐┌─┴─┐┌───┐\n",
      "«q_3: ┤ P(π/8) ├┤ X ├┤ P(-π/8) ├┤ X ├┤ P(π/8) ├┤ X ├┤ P(-π/8) ├┤ X ├┤ H ├\n",
      "«     └────────┘└───┘└─────────┘└───┘└────────┘└───┘└─────────┘└───┘└───┘\n"
     ]
    }
   ],
   "source": [
    "from qiskit import QuantumCircuit\n",
    "from qiskit.circuit.library import C3XGate\n",
    "\n",
    "qc = QuantumCircuit(4)\n",
    "toffoli = C3XGate()\n",
    "qc.append(toffoli, [0,1,2,3])\n",
    "qc = qc.decompose()\n",
    "print(qc.draw())"
   ]
  },
  {
   "cell_type": "code",
   "execution_count": 3,
   "id": "04bd31cd-06e1-4fe5-8360-7e953f2f1c8e",
   "metadata": {},
   "outputs": [
    {
     "name": "stdout",
     "output_type": "stream",
     "text": [
      "          \n",
      "q_0: ──■──\n",
      "       │  \n",
      "q_1: ──■──\n",
      "       │  \n",
      "q_2: ──■──\n",
      "     ┌─┴─┐\n",
      "q_3: ┤ X ├\n",
      "     └───┘\n"
     ]
    }
   ],
   "source": [
    "from qiskit import QuantumCircuit\n",
    "from qiskit.circuit.library import C3XGate\n",
    "\n",
    "qc = QuantumCircuit(4)  # Create a 4-qubit circuit\n",
    "\n",
    "# Create a C3XGate object\n",
    "toffoli = C3XGate()\n",
    "\n",
    "# Append the gate to the circuit\n",
    "qc.append(toffoli, [0, 1, 2, 3])  # Control qubits: 0, 1, 2; Target qubit: 3\n",
    "\n",
    "print(qc.draw())"
   ]
  },
  {
   "cell_type": "code",
   "execution_count": null,
   "id": "3341e72f-965d-497c-b8c0-31fd656fce6b",
   "metadata": {},
   "outputs": [],
   "source": []
  }
 ],
 "metadata": {
  "kernelspec": {
   "display_name": "Python 3 (ipykernel)",
   "language": "python",
   "name": "python3"
  },
  "language_info": {
   "codemirror_mode": {
    "name": "ipython",
    "version": 3
   },
   "file_extension": ".py",
   "mimetype": "text/x-python",
   "name": "python",
   "nbconvert_exporter": "python",
   "pygments_lexer": "ipython3",
   "version": "3.12.8"
  }
 },
 "nbformat": 4,
 "nbformat_minor": 5
}
