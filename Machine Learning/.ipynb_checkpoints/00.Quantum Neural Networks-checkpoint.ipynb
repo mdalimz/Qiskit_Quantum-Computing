{
 "cells": [
  {
   "cell_type": "markdown",
   "id": "ef114bf8-d672-40a8-8859-75c98039359a",
   "metadata": {},
   "source": [
    "## 0.1 Introduction"
   ]
  },
  {
   "cell_type": "markdown",
   "id": "f7f6291a-8848-4bd9-8f26-5da5669a5e63",
   "metadata": {},
   "source": []
  },
  {
   "cell_type": "markdown",
   "id": "d48f4af3-2267-4f8f-99ea-6d7536cb0220",
   "metadata": {},
   "source": [
    "### 0.1.1 Qiskit-machine-learning implementation"
   ]
  },
  {
   "cell_type": "code",
   "execution_count": 1,
   "id": "a1dbab09-96e4-4981-b7bb-072b7844006b",
   "metadata": {},
   "outputs": [],
   "source": [
    "from qiskit_machine_learning.utils import algorithm_globals\n",
    "#Al-Glo, used to store global settings that affect the behavior of various machine learning algorithms in Qiskit.\n",
    "algorithm_globals.random_seed = 42\n",
    "#For debugging, reproducibility, and comparison purposes, it's often essential to control this randomness."
   ]
  },
  {
   "cell_type": "code",
   "execution_count": null,
   "id": "b1a2039b-56a6-4ddf-a408-94a9ec00e239",
   "metadata": {},
   "outputs": [],
   "source": []
  },
  {
   "cell_type": "code",
   "execution_count": 2,
   "id": "11dbf6e0-d519-40f6-8cab-867706c8643b",
   "metadata": {},
   "outputs": [
    {
     "data": {
      "image/png": "[encoded data removed]",
      "text/plain": [
       "<Figure size 352.675x117.056 with 1 Axes>"
      ]
     },
     "execution_count": 2,
     "metadata": {},
     "output_type": "execute_result"
    }
   ],
   "source": [
    "from qiskit.circuit import Parameter\n",
    "#Parameter objects are used to define symbolic parameters within a quantum circuit and placeholders for values that you will provide later.\n",
    "from qiskit import QuantumCircuit\n",
    "#QCirthhis class is used to create and manipulate quantum circuits.\n",
    "\n",
    "params1 = [Parameter(\"input1\"), Parameter(\"weight1\")]\n",
    "qc1 = QuantumCircuit(1) #the circuit operates on a single qubit.\n",
    "qc1.h(0)\n",
    "#Acting on qubit 0. The Hadamard gate puts the qubit into a superposition state.\n",
    "qc1.ry(params1[0], 0)\n",
    "qc1.rx(params1[1], 0)\n",
    "qc1.draw(\"mpl\", style=\"clifford\")"
   ]
  },
  {
   "cell_type": "code",
   "execution_count": null,
   "id": "8973c819-5349-4154-a516-474759132da8",
   "metadata": {},
   "outputs": [],
   "source": []
  },
  {
   "cell_type": "code",
   "execution_count": null,
   "id": "82a0db04-7a88-4e86-b7eb-59228df6e679",
   "metadata": {},
   "outputs": [],
   "source": []
  }
 ],
 "metadata": {
  "kernelspec": {
   "display_name": "Python 3 (ipykernel)",
   "language": "python",
   "name": "python3"
  },
  "language_info": {
   "codemirror_mode": {
    "name": "ipython",
    "version": 3
   },
   "file_extension": ".py",
   "mimetype": "text/x-python",
   "name": "python",
   "nbconvert_exporter": "python",
   "pygments_lexer": "ipython3",
   "version": "3.12.8"
  }
 },
 "nbformat": 4,
 "nbformat_minor": 5
}
